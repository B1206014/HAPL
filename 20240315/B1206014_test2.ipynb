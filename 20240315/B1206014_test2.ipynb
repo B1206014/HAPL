{
  "nbformat": 4,
  "nbformat_minor": 0,
  "metadata": {
    "colab": {
      "provenance": []
    },
    "kernelspec": {
      "name": "python3",
      "display_name": "Python 3"
    },
    "language_info": {
      "name": "python"
    }
  },
  "cells": [
    {
      "cell_type": "code",
      "execution_count": null,
      "metadata": {
        "colab": {
          "base_uri": "https://localhost:8080/"
        },
        "id": "Wnar03lVLcAE",
        "outputId": "abcfb567-a6a7-4f4a-ad58-bf246cf0f8f6"
      },
      "outputs": [
        {
          "output_type": "stream",
          "name": "stdout",
          "text": [
            "Ans. is= 495\n"
          ]
        }
      ],
      "source": [
        "x=2\n",
        "y=1\n",
        "a=2*x+y\n",
        "b=100-y\n",
        "Ans=a*b\n",
        "print(\"Ans. is=\",Ans)\n"
      ]
    },
    {
      "cell_type": "code",
      "source": [
        "print(type(a))\n",
        "print(type(b))\n",
        "print(type(Ans))\n",
        "print(type(x))\n",
        "print(type(y))"
      ],
      "metadata": {
        "colab": {
          "base_uri": "https://localhost:8080/"
        },
        "id": "EfCcRK8pcFId",
        "outputId": "abd8e790-2ce9-4ad3-eb73-b8a7b25f8186"
      },
      "execution_count": null,
      "outputs": [
        {
          "output_type": "stream",
          "name": "stdout",
          "text": [
            "<class 'int'>\n",
            "<class 'int'>\n",
            "<class 'float'>\n",
            "<class 'int'>\n",
            "<class 'int'>\n"
          ]
        }
      ]
    },
    {
      "cell_type": "code",
      "source": [
        "y=4\n",
        "Ans=100/(2*y+1)\n",
        "print(\"Ans. is=\",Ans)"
      ],
      "metadata": {
        "colab": {
          "base_uri": "https://localhost:8080/"
        },
        "id": "k5lOijblQ-Li",
        "outputId": "87bb20d1-5291-494a-8dfd-523fe521c893"
      },
      "execution_count": null,
      "outputs": [
        {
          "output_type": "stream",
          "name": "stdout",
          "text": [
            "Ans. is= 11.11111111111111\n"
          ]
        }
      ]
    },
    {
      "cell_type": "code",
      "source": [
        "print(type(Ans))\n",
        "print(type(y))"
      ],
      "metadata": {
        "colab": {
          "base_uri": "https://localhost:8080/"
        },
        "id": "kpZDp0LzcYdr",
        "outputId": "7e206786-be05-485d-91d0-be95ef436ca0"
      },
      "execution_count": null,
      "outputs": [
        {
          "output_type": "stream",
          "name": "stdout",
          "text": [
            "<class 'float'>\n",
            "<class 'int'>\n"
          ]
        }
      ]
    },
    {
      "cell_type": "markdown",
      "source": [
        "這次的練習雖然只是用程式撰寫簡單的運算，但能由此逐漸理解程式語言與該如何給予電腦指示。"
      ],
      "metadata": {
        "id": "qN--UArDRQEV"
      }
    }
  ]
}