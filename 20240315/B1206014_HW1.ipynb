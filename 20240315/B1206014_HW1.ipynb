{
  "nbformat": 4,
  "nbformat_minor": 0,
  "metadata": {
    "colab": {
      "provenance": []
    },
    "kernelspec": {
      "name": "python3",
      "display_name": "Python 3"
    },
    "language_info": {
      "name": "python"
    }
  },
  "cells": [
    {
      "cell_type": "code",
      "execution_count": null,
      "metadata": {
        "colab": {
          "base_uri": "https://localhost:8080/"
        },
        "id": "Yvch_Nrq4lUo",
        "outputId": "222f9bc5-d1b6-42f8-dc99-2317389c3afa"
      },
      "outputs": [
        {
          "output_type": "stream",
          "name": "stdout",
          "text": [
            "I'm a student\n"
          ]
        }
      ],
      "source": [
        "print(\"I'm a student\")"
      ]
    },
    {
      "cell_type": "code",
      "source": [
        "x1=float(input())\n",
        "y1=float(input())\n",
        "x2=float(input())\n",
        "y2=float(input())\n",
        "z=((x2-x1)**2+(y2-y1)**2)**0.5\n",
        "print(\"Ans. is\",z)"
      ],
      "metadata": {
        "colab": {
          "base_uri": "https://localhost:8080/"
        },
        "id": "BNS_zWWD4vuY",
        "outputId": "1e2484be-7546-40bd-c91f-dfea8b8cbdf9"
      },
      "execution_count": 8,
      "outputs": [
        {
          "output_type": "stream",
          "name": "stdout",
          "text": [
            "3\n",
            "4\n",
            "2\n",
            "2\n",
            "Ans. is 2.23606797749979\n"
          ]
        }
      ]
    },
    {
      "cell_type": "code",
      "source": [
        "x=float(input())\n",
        "y=float(input())\n",
        "x/=(y**2)\n",
        "print(x)"
      ],
      "metadata": {
        "colab": {
          "base_uri": "https://localhost:8080/"
        },
        "id": "XKYcp2fnFVaX",
        "outputId": "0fc57447-62fe-414d-9827-9a2971adc6f2"
      },
      "execution_count": 9,
      "outputs": [
        {
          "output_type": "stream",
          "name": "stdout",
          "text": [
            "52\n",
            "1.55\n",
            "21.64412070759625\n"
          ]
        }
      ]
    }
  ]
}