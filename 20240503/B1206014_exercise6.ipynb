{
  "nbformat": 4,
  "nbformat_minor": 0,
  "metadata": {
    "colab": {
      "provenance": []
    },
    "kernelspec": {
      "name": "python3",
      "display_name": "Python 3"
    },
    "language_info": {
      "name": "python"
    }
  },
  "cells": [
    {
      "cell_type": "code",
      "source": [
        "def tree(h):\n",
        "  for i in range(1,h+1):\n",
        "    print(\" \"*(h-i)+\"*\"*(2*i-1))\n",
        "  for i in range(5):\n",
        "    print(\" \"*(h-2)+\"***\")\n",
        "tree_h = int(input(\"請入聖誕樹的高度(至少7層):\"))\n",
        "tree(tree_h)"
      ],
      "metadata": {
        "colab": {
          "base_uri": "https://localhost:8080/"
        },
        "id": "6kfLxxl_B9yL",
        "outputId": "2d3d846f-c3b5-42ec-ee4e-353a9bc101b2"
      },
      "execution_count": 13,
      "outputs": [
        {
          "output_type": "stream",
          "name": "stdout",
          "text": [
            "請入聖誕樹的高度(至少7層):8\n",
            "       *\n",
            "      ***\n",
            "     *****\n",
            "    *******\n",
            "   *********\n",
            "  ***********\n",
            " *************\n",
            "***************\n",
            "      ***\n",
            "      ***\n",
            "      ***\n",
            "      ***\n",
            "      ***\n"
          ]
        }
      ]
    },
    {
      "cell_type": "code",
      "execution_count": 42,
      "metadata": {
        "colab": {
          "base_uri": "https://localhost:8080/"
        },
        "id": "qN_l_Vs6BaU7",
        "outputId": "3b74e40e-374e-4c89-bd8f-ebe1fdddb4f0"
      },
      "outputs": [
        {
          "output_type": "stream",
          "name": "stdout",
          "text": [
            "請輸入身高(公分):150\n",
            "請輸入體重(公斤):w\n",
            "BMI: 輸入內容錯誤\n",
            "體位: 輸入內容錯誤\n"
          ]
        }
      ],
      "source": [
        "def bmi(h,w):\n",
        "  try:\n",
        "    h = float(h)/100\n",
        "    w = float(w)\n",
        "    bmi = w/(h**2)\n",
        "\n",
        "    if bmi<18.5 : result = \"過輕\"\n",
        "    elif 18.5<=bmi<24 : result = \"適中\"\n",
        "    elif 24<=bmi<27 : result = \"過重\"\n",
        "    else : result = \"肥胖\"\n",
        "    return bmi,result\n",
        "  except:\n",
        "    return\"輸入內容錯誤\",\"輸入內容錯誤\"\n",
        "\n",
        "h = input(\"請輸入身高(公分):\")\n",
        "w = input(\"請輸入體重(公斤):\")\n",
        "bmi_result = bmi(h,w)\n",
        "print(\"BMI:\",bmi_result[0])\n",
        "print(\"體位:\",bmi_result[1])"
      ]
    }
  ]
}