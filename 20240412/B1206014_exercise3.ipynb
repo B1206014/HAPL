{
  "nbformat": 4,
  "nbformat_minor": 0,
  "metadata": {
    "colab": {
      "provenance": []
    },
    "kernelspec": {
      "name": "python3",
      "display_name": "Python 3"
    },
    "language_info": {
      "name": "python"
    }
  },
  "cells": [
    {
      "cell_type": "code",
      "execution_count": null,
      "metadata": {
        "colab": {
          "base_uri": "https://localhost:8080/"
        },
        "id": "ybwjZE9hywSy",
        "outputId": "86e2c38e-7349-41ec-df50-1a15cf8da4f1"
      },
      "outputs": [
        {
          "output_type": "stream",
          "name": "stdout",
          "text": [
            "請輸入您的體重(kg)：80\n",
            "請輸入您的身高(cm)：180\n",
            "BMI:24.691358024691358\n",
            "體位：肥胖\n"
          ]
        }
      ],
      "source": [
        "x = float(input(\"請輸入您的體重(kg)：\"))\n",
        "y = float(input(\"請輸入您的身高(cm)：\"))\n",
        "y = y/100\n",
        "z = x/(y**2)\n",
        "print(f'BMI:{z}')\n",
        "if x<18.5 : print('體位：過輕')\n",
        "elif 18.5<=x<24 : print('體位：適中')\n",
        "elif 24<=x<27 : print('體位：過重')\n",
        "else : print('體位：肥胖')"
      ]
    },
    {
      "cell_type": "code",
      "source": [
        "x = float(input('請輸入第一個數字：'))\n",
        "y = (input(\"請輸入運算符號：\"))\n",
        "z = float(input('請輸入第二個數字：'))\n",
        "A = 0\n",
        "if y == '+' : A = x+z\n",
        "elif y == '-' : A = x-z\n",
        "elif y == '*' : A = x*z\n",
        "elif y == '/' : A = x/z\n",
        "else : A = '無效'\n",
        "print(A)"
      ],
      "metadata": {
        "colab": {
          "base_uri": "https://localhost:8080/"
        },
        "id": "2cM40K4y4oHM",
        "outputId": "1e785da1-40d8-45ce-f472-7cc1b8c0d621"
      },
      "execution_count": null,
      "outputs": [
        {
          "output_type": "stream",
          "name": "stdout",
          "text": [
            "請輸入第一個數字：5\n",
            "請輸入運算符號：+\n",
            "請輸入第二個數字：3\n",
            "8.0\n"
          ]
        }
      ]
    }
  ]
}