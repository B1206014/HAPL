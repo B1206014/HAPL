{
  "nbformat": 4,
  "nbformat_minor": 0,
  "metadata": {
    "colab": {
      "provenance": []
    },
    "kernelspec": {
      "name": "python3",
      "display_name": "Python 3"
    },
    "language_info": {
      "name": "python"
    }
  },
  "cells": [
    {
      "cell_type": "code",
      "execution_count": null,
      "metadata": {
        "colab": {
          "base_uri": "https://localhost:8080/"
        },
        "id": "AvZuckno-l1j",
        "outputId": "cef18196-f190-487f-bcdb-203582669b7f"
      },
      "outputs": [
        {
          "output_type": "stream",
          "name": "stdout",
          "text": [
            "請輸入一個年份:2024\n",
            "此年為:閏年\n"
          ]
        }
      ],
      "source": [
        "x = float(input('請輸入一個年份:'))\n",
        "if x<=1582 and x % 4 == 0 :\n",
        "  print(\"此年為:閏年\")\n",
        "elif x % 4 ==0 and x % 100 != 0 :\n",
        "  print(\"此年為:閏年\")\n",
        "elif x % 400 == 0:\n",
        "  print(\"此年為:閏年\")\n",
        "else : print(\"此年為:平年\")"
      ]
    }
  ]
}